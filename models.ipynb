{
 "cells": [
  {
   "cell_type": "code",
   "execution_count": 1,
   "metadata": {},
   "outputs": [],
   "source": [
    "\n",
    "import tensorflow as tf\n",
    "from tensorflow.keras.models import Sequential,Model\n",
    "from tensorflow.keras.layers import Dense, Dropout,Concatenate,Input, LSTM,GRU, Flatten, Conv1D, MaxPooling1D,Bidirectional\n",
    "import pandas as pd \n",
    "from pandas import read_csv\n",
    "import matplotlib.pyplot as pyplot\n",
    "import numpy as np \n",
    "from numpy import concatenate\n",
    "from tqdm import tqdm\n",
    "import math\n",
    "import datetime\n",
    "import gc\n",
    "from sklearn.preprocessing import MinMaxScaler\n",
    "from sklearn.preprocessing import LabelEncoder\n",
    "from sklearn.metrics import mean_squared_error\n",
    "from sklearn.model_selection import KFold"
   ]
  },
  {
   "cell_type": "code",
   "execution_count": 2,
   "metadata": {},
   "outputs": [],
   "source": [
    "num_folds = 10\n"
   ]
  },
  {
   "cell_type": "code",
   "execution_count": 3,
   "metadata": {},
   "outputs": [
    {
     "name": "stdout",
     "output_type": "stream",
     "text": [
      "Device mapping:\n",
      "/job:localhost/replica:0/task:0/device:GPU:0 -> device: 0, name: GeForce GTX 750 Ti, pci bus id: 0000:01:00.0, compute capability: 5.0\n",
      "\n"
     ]
    }
   ],
   "source": [
    "sess = tf.compat.v1.Session(config=tf.compat.v1.ConfigProto(log_device_placement=True))"
   ]
  },
  {
   "cell_type": "code",
   "execution_count": 4,
   "metadata": {},
   "outputs": [],
   "source": [
    "%matplotlib inline"
   ]
  },
  {
   "cell_type": "code",
   "execution_count": 5,
   "metadata": {},
   "outputs": [],
   "source": [
    "seed_value=21"
   ]
  },
  {
   "cell_type": "code",
   "execution_count": 6,
   "metadata": {},
   "outputs": [],
   "source": [
    "tf.random.set_seed(seed_value)"
   ]
  },
  {
   "cell_type": "code",
   "execution_count": 7,
   "metadata": {},
   "outputs": [],
   "source": [
    "train=pd.read_csv(\"./data/processed_train.csv\")\n",
    "test=pd.read_csv(\"./data/processed_test.csv\")"
   ]
  },
  {
   "cell_type": "code",
   "execution_count": 8,
   "metadata": {},
   "outputs": [],
   "source": [
    "train.drop(15538,inplace=True)"
   ]
  },
  {
   "cell_type": "code",
   "execution_count": 9,
   "metadata": {},
   "outputs": [],
   "source": [
    "targets = train[\"target\"]\n",
    "train.drop([\"target\"],axis=1,inplace=True)\n",
    "result_array = train.values\n",
    "result_test_array = test.values\n",
    "result_array = np.nan_to_num(result_array)\n",
    "result_test_array = np.nan_to_num(result_test_array)"
   ]
  },
  {
   "cell_type": "code",
   "execution_count": 10,
   "metadata": {},
   "outputs": [],
   "source": [
    "features = np.array_split(train,7,axis=1)"
   ]
  },
  {
   "cell_type": "code",
   "execution_count": 11,
   "metadata": {},
   "outputs": [],
   "source": [
    "for index,feat in enumerate(features,start=0):\n",
    "    features[index] = features[index].values\n",
    "    features[index] = features[index].reshape(15538,121,1)"
   ]
  },
  {
   "cell_type": "code",
   "execution_count": 12,
   "metadata": {},
   "outputs": [],
   "source": [
    "x_train = np.reshape(result_array,(15538,121,7))\n",
    "x_test = np.reshape(result_test_array,(5035,121,7))"
   ]
  },
  {
   "cell_type": "code",
   "execution_count": 13,
   "metadata": {},
   "outputs": [],
   "source": [
    "x_train_one = np.reshape(result_array,(15538,847,1))\n",
    "x_test_one = np.reshape(result_test_array,(5035,847,1))"
   ]
  },
  {
   "cell_type": "code",
   "execution_count": 14,
   "metadata": {},
   "outputs": [],
   "source": [
    "y_train = targets.values"
   ]
  },
  {
   "cell_type": "code",
   "execution_count": 15,
   "metadata": {},
   "outputs": [],
   "source": [
    "y_train_cnn = targets.values"
   ]
  },
  {
   "cell_type": "markdown",
   "metadata": {},
   "source": [
    "## k-cross validation GRU"
   ]
  },
  {
   "cell_type": "code",
   "execution_count": 44,
   "metadata": {},
   "outputs": [],
   "source": [
    "GRUloss = []\n",
    "kfold = KFold(n_splits=num_folds, shuffle=True)\n",
    "fold_no = 1"
   ]
  },
  {
   "cell_type": "code",
   "execution_count": 45,
   "metadata": {},
   "outputs": [
    {
     "name": "stdout",
     "output_type": "stream",
     "text": [
      "fold 1\n",
      "Train on 13984 samples\n",
      "Epoch 1/10\n",
      "13984/13984 [==============================] - 38s 3ms/sample - loss: 27.4444\n",
      "Epoch 2/10\n",
      "13984/13984 [==============================] - 37s 3ms/sample - loss: 26.8646\n",
      "Epoch 3/10\n",
      "13984/13984 [==============================] - 38s 3ms/sample - loss: 26.8082\n",
      "Epoch 4/10\n",
      "13984/13984 [==============================] - 37s 3ms/sample - loss: 26.6697\n",
      "Epoch 5/10\n",
      "13984/13984 [==============================] - 38s 3ms/sample - loss: 26.6745\n",
      "Epoch 6/10\n",
      "13984/13984 [==============================] - 38s 3ms/sample - loss: 26.7043\n",
      "Epoch 7/10\n",
      "13984/13984 [==============================] - 38s 3ms/sample - loss: 26.7037\n",
      "Epoch 8/10\n",
      "13984/13984 [==============================] - 38s 3ms/sample - loss: 26.6716\n",
      "Epoch 9/10\n",
      "13984/13984 [==============================] - 37s 3ms/sample - loss: 26.6668\n",
      "Epoch 10/10\n",
      "13984/13984 [==============================] - 38s 3ms/sample - loss: 26.6240\n",
      "1554/1554 [==============================] - 1s 720us/sample - loss: 28.6886\n",
      "28.688612379469312\n",
      "fold 2\n",
      "Train on 13984 samples\n",
      "Epoch 1/10\n",
      "13984/13984 [==============================] - 38s 3ms/sample - loss: 28.7386\n",
      "Epoch 2/10\n",
      "13984/13984 [==============================] - 37s 3ms/sample - loss: 27.1470\n",
      "Epoch 3/10\n",
      "13984/13984 [==============================] - 37s 3ms/sample - loss: 27.0181\n",
      "Epoch 4/10\n",
      "13984/13984 [==============================] - 37s 3ms/sample - loss: 26.8042\n",
      "Epoch 5/10\n",
      "13984/13984 [==============================] - 37s 3ms/sample - loss: 26.7103\n",
      "Epoch 6/10\n",
      "13984/13984 [==============================] - 37s 3ms/sample - loss: 26.6110\n",
      "Epoch 7/10\n",
      "13984/13984 [==============================] - 37s 3ms/sample - loss: 26.6497\n",
      "Epoch 8/10\n",
      "13984/13984 [==============================] - 38s 3ms/sample - loss: 26.6047s - l\n",
      "Epoch 9/10\n",
      "13984/13984 [==============================] - 37s 3ms/sample - loss: 26.6437\n",
      "Epoch 10/10\n",
      "13984/13984 [==============================] - 38s 3ms/sample - loss: 26.5775\n",
      "1554/1554 [==============================] - 1s 720us/sample - loss: 30.4438\n",
      "30.443802915791593\n",
      "fold 3\n",
      "Train on 13984 samples\n",
      "Epoch 1/10\n",
      "13984/13984 [==============================] - 38s 3ms/sample - loss: 31.0357\n",
      "Epoch 2/10\n",
      "13984/13984 [==============================] - 38s 3ms/sample - loss: 28.3898\n",
      "Epoch 3/10\n",
      "13984/13984 [==============================] - 38s 3ms/sample - loss: 27.6564\n",
      "Epoch 4/10\n",
      "13984/13984 [==============================] - 37s 3ms/sample - loss: 27.5936\n",
      "Epoch 5/10\n",
      "13984/13984 [==============================] - 37s 3ms/sample - loss: 27.6063\n",
      "Epoch 6/10\n",
      "13984/13984 [==============================] - 38s 3ms/sample - loss: 27.4080\n",
      "Epoch 7/10\n",
      "13984/13984 [==============================] - 37s 3ms/sample - loss: 27.4260\n",
      "Epoch 8/10\n",
      "13984/13984 [==============================] - 37s 3ms/sample - loss: 27.2594\n",
      "Epoch 9/10\n",
      "13984/13984 [==============================] - 38s 3ms/sample - loss: 27.1177\n",
      "Epoch 10/10\n",
      "13984/13984 [==============================] - 38s 3ms/sample - loss: 26.9639\n",
      "1554/1554 [==============================] - 1s 740us/sample - loss: 26.4742\n",
      "26.474194726735316\n",
      "fold 4\n",
      "Train on 13984 samples\n",
      "Epoch 1/10\n",
      "13984/13984 [==============================] - 38s 3ms/sample - loss: 29.4668\n",
      "Epoch 2/10\n",
      "13984/13984 [==============================] - 37s 3ms/sample - loss: 28.7966\n",
      "Epoch 3/10\n",
      "13984/13984 [==============================] - 37s 3ms/sample - loss: 28.7288\n",
      "Epoch 4/10\n",
      "13984/13984 [==============================] - 37s 3ms/sample - loss: 28.4887\n",
      "Epoch 5/10\n",
      "13984/13984 [==============================] - 37s 3ms/sample - loss: 28.0316\n",
      "Epoch 6/10\n",
      "13984/13984 [==============================] - 37s 3ms/sample - loss: 28.1687\n",
      "Epoch 7/10\n",
      "13984/13984 [==============================] - 37s 3ms/sample - loss: 28.1099\n",
      "Epoch 8/10\n",
      "13984/13984 [==============================] - 37s 3ms/sample - loss: 28.3899\n",
      "Epoch 9/10\n",
      "13984/13984 [==============================] - 37s 3ms/sample - loss: 28.0056\n",
      "Epoch 10/10\n",
      "13984/13984 [==============================] - 37s 3ms/sample - loss: 27.8147\n",
      "1554/1554 [==============================] - 1s 720us/sample - loss: 34.8628\n",
      "34.8628098574998\n",
      "fold 5\n",
      "Train on 13984 samples\n",
      "Epoch 1/10\n",
      "13984/13984 [==============================] - 38s 3ms/sample - loss: 27.4288\n",
      "Epoch 2/10\n",
      "13984/13984 [==============================] - 37s 3ms/sample - loss: 26.5669\n",
      "Epoch 3/10\n",
      "13984/13984 [==============================] - 37s 3ms/sample - loss: 26.5399\n",
      "Epoch 4/10\n",
      "13984/13984 [==============================] - 37s 3ms/sample - loss: 26.5550\n",
      "Epoch 5/10\n",
      "13984/13984 [==============================] - 37s 3ms/sample - loss: 26.5937\n",
      "Epoch 6/10\n",
      "13984/13984 [==============================] - 37s 3ms/sample - loss: 26.4862\n",
      "Epoch 7/10\n",
      "13984/13984 [==============================] - 37s 3ms/sample - loss: 26.5005\n",
      "Epoch 8/10\n",
      "13984/13984 [==============================] - 37s 3ms/sample - loss: 26.4667s - l\n",
      "Epoch 9/10\n",
      "13984/13984 [==============================] - 37s 3ms/sample - loss: 26.4883\n",
      "Epoch 10/10\n",
      "13984/13984 [==============================] - 37s 3ms/sample - loss: 26.4357\n",
      "1554/1554 [==============================] - 1s 764us/sample - loss: 30.4330\n",
      "30.432956263518854\n",
      "fold 6\n",
      "Train on 13984 samples\n",
      "Epoch 1/10\n",
      "13984/13984 [==============================] - 38s 3ms/sample - loss: 29.6294\n",
      "Epoch 2/10\n",
      "13984/13984 [==============================] - 37s 3ms/sample - loss: 27.3478\n",
      "Epoch 3/10\n",
      "13984/13984 [==============================] - 38s 3ms/sample - loss: 27.1228\n",
      "Epoch 4/10\n",
      "13984/13984 [==============================] - 37s 3ms/sample - loss: 26.9714\n",
      "Epoch 5/10\n",
      "13984/13984 [==============================] - 37s 3ms/sample - loss: 27.0348\n",
      "Epoch 6/10\n",
      "13984/13984 [==============================] - 38s 3ms/sample - loss: 26.9135\n",
      "Epoch 7/10\n",
      "13984/13984 [==============================] - 38s 3ms/sample - loss: 26.7995\n",
      "Epoch 8/10\n",
      "13984/13984 [==============================] - 37s 3ms/sample - loss: 26.9079\n",
      "Epoch 9/10\n",
      "13984/13984 [==============================] - 37s 3ms/sample - loss: 26.8598\n",
      "Epoch 10/10\n",
      "13984/13984 [==============================] - 38s 3ms/sample - loss: 26.7271\n",
      "1554/1554 [==============================] - 1s 720us/sample - loss: 28.2045\n",
      "28.204495529410462\n",
      "fold 7\n",
      "Train on 13984 samples\n",
      "Epoch 1/10\n",
      "13984/13984 [==============================] - 38s 3ms/sample - loss: 29.5605\n",
      "Epoch 2/10\n",
      "13984/13984 [==============================] - 38s 3ms/sample - loss: 27.4124\n",
      "Epoch 3/10\n",
      "13984/13984 [==============================] - 37s 3ms/sample - loss: 27.1555\n",
      "Epoch 4/10\n",
      "13984/13984 [==============================] - 37s 3ms/sample - loss: 26.9644\n",
      "Epoch 5/10\n",
      "13984/13984 [==============================] - 38s 3ms/sample - loss: 26.7467\n",
      "Epoch 6/10\n",
      "13984/13984 [==============================] - 37s 3ms/sample - loss: 26.6625\n",
      "Epoch 7/10\n",
      "13984/13984 [==============================] - 37s 3ms/sample - loss: 26.5984\n",
      "Epoch 8/10\n",
      "13984/13984 [==============================] - 37s 3ms/sample - loss: 26.6040\n",
      "Epoch 9/10\n",
      "13984/13984 [==============================] - 38s 3ms/sample - loss: 26.5935\n",
      "Epoch 10/10\n",
      "13984/13984 [==============================] - 37s 3ms/sample - loss: 26.5567\n",
      "1554/1554 [==============================] - 1s 730us/sample - loss: 30.5384\n",
      "30.538442253299355\n",
      "fold 8\n",
      "Train on 13984 samples\n",
      "Epoch 1/10\n",
      "13984/13984 [==============================] - 38s 3ms/sample - loss: 28.0681\n",
      "Epoch 2/10\n",
      "13984/13984 [==============================] - 37s 3ms/sample - loss: 26.8980\n",
      "Epoch 3/10\n",
      "13984/13984 [==============================] - 37s 3ms/sample - loss: 26.8244\n",
      "Epoch 4/10\n",
      "13984/13984 [==============================] - 38s 3ms/sample - loss: 26.7511\n",
      "Epoch 5/10\n",
      "13984/13984 [==============================] - 37s 3ms/sample - loss: 26.7105\n",
      "Epoch 6/10\n",
      "13984/13984 [==============================] - 38s 3ms/sample - loss: 26.7258\n",
      "Epoch 7/10\n",
      "13984/13984 [==============================] - 38s 3ms/sample - loss: 26.6272\n",
      "Epoch 8/10\n",
      "13984/13984 [==============================] - 38s 3ms/sample - loss: 26.6778\n",
      "Epoch 9/10\n",
      "13984/13984 [==============================] - 37s 3ms/sample - loss: 26.6509\n",
      "Epoch 10/10\n",
      "13984/13984 [==============================] - 38s 3ms/sample - loss: 26.6381\n",
      "1554/1554 [==============================] - 1s 750us/sample - loss: 29.5068\n",
      "29.506786439716432\n",
      "fold 9\n",
      "Train on 13985 samples\n",
      "Epoch 1/10\n"
     ]
    },
    {
     "name": "stdout",
     "output_type": "stream",
     "text": [
      "13985/13985 [==============================] - 46s 3ms/sample - loss: 29.2147\n",
      "Epoch 2/10\n",
      "13985/13985 [==============================] - 45s 3ms/sample - loss: 27.5397\n",
      "Epoch 3/10\n",
      "13985/13985 [==============================] - 45s 3ms/sample - loss: 26.9848\n",
      "Epoch 4/10\n",
      "13985/13985 [==============================] - 46s 3ms/sample - loss: 26.9323\n",
      "Epoch 5/10\n",
      "13985/13985 [==============================] - 45s 3ms/sample - loss: 26.8370\n",
      "Epoch 6/10\n",
      "13985/13985 [==============================] - 44s 3ms/sample - loss: 26.6900\n",
      "Epoch 7/10\n",
      "13985/13985 [==============================] - 44s 3ms/sample - loss: 26.6651\n",
      "Epoch 8/10\n",
      "13985/13985 [==============================] - 45s 3ms/sample - loss: 26.8736\n",
      "Epoch 9/10\n",
      "13985/13985 [==============================] - 44s 3ms/sample - loss: 26.6620\n",
      "Epoch 10/10\n",
      "13985/13985 [==============================] - 44s 3ms/sample - loss: 26.6297\n",
      "1553/1553 [==============================] - 1s 730us/sample - loss: 30.5018\n",
      "30.501773261901107\n",
      "fold 10\n",
      "Train on 13985 samples\n",
      "Epoch 1/10\n",
      "13985/13985 [==============================] - 45s 3ms/sample - loss: 29.9959\n",
      "Epoch 2/10\n",
      "13985/13985 [==============================] - 44s 3ms/sample - loss: 28.8822\n",
      "Epoch 3/10\n",
      "13985/13985 [==============================] - 44s 3ms/sample - loss: 28.2334\n",
      "Epoch 4/10\n",
      "13985/13985 [==============================] - 44s 3ms/sample - loss: 28.2059\n",
      "Epoch 5/10\n",
      "13985/13985 [==============================] - 44s 3ms/sample - loss: 27.7066\n",
      "Epoch 6/10\n",
      "13985/13985 [==============================] - 44s 3ms/sample - loss: 27.5828\n",
      "Epoch 7/10\n",
      "13985/13985 [==============================] - 44s 3ms/sample - loss: 27.4668\n",
      "Epoch 8/10\n",
      "13985/13985 [==============================] - 44s 3ms/sample - loss: 27.2830\n",
      "Epoch 9/10\n",
      "13985/13985 [==============================] - 44s 3ms/sample - loss: 27.0469\n",
      "Epoch 10/10\n",
      "13985/13985 [==============================] - 44s 3ms/sample - loss: 26.9710\n",
      "1553/1553 [==============================] - 1s 724us/sample - loss: 29.3863\n",
      "29.386325756350566\n"
     ]
    }
   ],
   "source": [
    "for train, test in kfold.split(x_train, y_train):\n",
    "    print(\"fold\",fold_no)\n",
    "    KgruModel = Sequential()\n",
    "    KgruModel.add(GRU(10,input_shape=(121,7), activation =\"relu\", return_sequences=False))\n",
    "    KgruModel.add(Dropout(0.3,seed=seed_value))\n",
    "    KgruModel.add(Dense(255, activation=\"relu\"))\n",
    "    KgruModel.add(Dense(1))\n",
    "    KgruModel.compile(loss=\"mae\",optimizer=\"adam\")\n",
    "    kFoldModelScores = KgruModel.fit(x_train[train],y_train[train],epochs=10,verbose=1)\n",
    "    \n",
    "    scores = KgruModel.evaluate(x_train[test], y_train[test], verbose=1)\n",
    "    print(scores)\n",
    "    \n",
    "    GRUloss.append(scores)\n",
    "    fold_no = fold_no + 1\n",
    "    \n",
    "    \n"
   ]
  },
  {
   "cell_type": "code",
   "execution_count": 46,
   "metadata": {},
   "outputs": [
    {
     "name": "stdout",
     "output_type": "stream",
     "text": [
      "29.90% (+/- 2.06%)\n"
     ]
    }
   ],
   "source": [
    "print(\"%.2f%% (+/- %.2f%%)\" % (np.mean(GRUloss), np.std(GRUloss)))"
   ]
  },
  {
   "cell_type": "markdown",
   "metadata": {},
   "source": [
    "## k-cross validation LSTM"
   ]
  },
  {
   "cell_type": "code",
   "execution_count": 41,
   "metadata": {},
   "outputs": [],
   "source": [
    "LSTMloss = []\n",
    "kfold = KFold(n_splits=num_folds, shuffle=True)\n",
    "fold_no = 1"
   ]
  },
  {
   "cell_type": "code",
   "execution_count": 42,
   "metadata": {},
   "outputs": [
    {
     "name": "stdout",
     "output_type": "stream",
     "text": [
      "fold 1\n",
      "Train on 13984 samples\n",
      "Epoch 1/10\n",
      "13984/13984 [==============================] - 34s 2ms/sample - loss: 35.1676\n",
      "Epoch 2/10\n",
      "13984/13984 [==============================] - 33s 2ms/sample - loss: 30.1253\n",
      "Epoch 3/10\n",
      "13984/13984 [==============================] - 33s 2ms/sample - loss: 29.9282\n",
      "Epoch 4/10\n",
      "13984/13984 [==============================] - 33s 2ms/sample - loss: 29.4605\n",
      "Epoch 5/10\n",
      "13984/13984 [==============================] - 33s 2ms/sample - loss: 29.2300\n",
      "Epoch 6/10\n",
      "13984/13984 [==============================] - 33s 2ms/sample - loss: 28.8989\n",
      "Epoch 7/10\n",
      "13984/13984 [==============================] - 33s 2ms/sample - loss: 28.8505\n",
      "Epoch 8/10\n",
      "13984/13984 [==============================] - 33s 2ms/sample - loss: 28.7027\n",
      "Epoch 9/10\n",
      "13984/13984 [==============================] - 33s 2ms/sample - loss: 28.7578\n",
      "Epoch 10/10\n",
      "13984/13984 [==============================] - 33s 2ms/sample - loss: 28.6913\n",
      "1554/1554 [==============================] - 1s 591us/sample - loss: 25.4562\n",
      "25.45621188052066\n",
      "fold 2\n",
      "Train on 13984 samples\n",
      "Epoch 1/10\n",
      "13984/13984 [==============================] - 33s 2ms/sample - loss: 46.3761\n",
      "Epoch 2/10\n",
      "13984/13984 [==============================] - 32s 2ms/sample - loss: 32.1688\n",
      "Epoch 3/10\n",
      "13984/13984 [==============================] - 32s 2ms/sample - loss: 32.8153\n",
      "Epoch 4/10\n",
      "13984/13984 [==============================] - 32s 2ms/sample - loss: 36.8824\n",
      "Epoch 5/10\n",
      "13984/13984 [==============================] - 32s 2ms/sample - loss: 480347.8028\n",
      "Epoch 6/10\n",
      "13984/13984 [==============================] - 32s 2ms/sample - loss: 29.7012\n",
      "Epoch 7/10\n",
      "13984/13984 [==============================] - 32s 2ms/sample - loss: 29.5402\n",
      "Epoch 8/10\n",
      "13984/13984 [==============================] - 32s 2ms/sample - loss: 29.2818\n",
      "Epoch 9/10\n",
      "13984/13984 [==============================] - 32s 2ms/sample - loss: 29.0448\n",
      "Epoch 10/10\n",
      "13984/13984 [==============================] - 32s 2ms/sample - loss: 28.9012\n",
      "1554/1554 [==============================] - 1s 595us/sample - loss: 26.8811\n",
      "26.881076918298827\n",
      "fold 3\n",
      "Train on 13984 samples\n",
      "Epoch 1/10\n",
      "13984/13984 [==============================] - 33s 2ms/sample - loss: 12022.4631\n",
      "Epoch 2/10\n",
      "13984/13984 [==============================] - 32s 2ms/sample - loss: 137.9519\n",
      "Epoch 3/10\n",
      "13984/13984 [==============================] - 32s 2ms/sample - loss: 88.2692\n",
      "Epoch 4/10\n",
      "13984/13984 [==============================] - 32s 2ms/sample - loss: 94.5792\n",
      "Epoch 5/10\n",
      "13984/13984 [==============================] - 32s 2ms/sample - loss: 314.8151\n",
      "Epoch 6/10\n",
      "13984/13984 [==============================] - 35s 2ms/sample - loss: 137.8649\n",
      "Epoch 7/10\n",
      "13984/13984 [==============================] - 32s 2ms/sample - loss: 256.3551\n",
      "Epoch 8/10\n",
      "13984/13984 [==============================] - 32s 2ms/sample - loss: 47.9907\n",
      "Epoch 9/10\n",
      "13984/13984 [==============================] - 33s 2ms/sample - loss: 193.3069\n",
      "Epoch 10/10\n",
      "13984/13984 [==============================] - 32s 2ms/sample - loss: 14331.2712\n",
      "1554/1554 [==============================] - 1s 591us/sample - loss: 973.9204\n",
      "973.9203603540761\n",
      "fold 4\n",
      "Train on 13984 samples\n",
      "Epoch 1/10\n",
      "13984/13984 [==============================] - 33s 2ms/sample - loss: 51.9032\n",
      "Epoch 2/10\n",
      "13984/13984 [==============================] - 32s 2ms/sample - loss: 42.7468\n",
      "Epoch 3/10\n",
      "13984/13984 [==============================] - 33s 2ms/sample - loss: 32.4079\n",
      "Epoch 4/10\n",
      "13984/13984 [==============================] - 32s 2ms/sample - loss: 26.9268\n",
      "Epoch 5/10\n",
      "13984/13984 [==============================] - 32s 2ms/sample - loss: 26.3777\n",
      "Epoch 6/10\n",
      "13984/13984 [==============================] - 32s 2ms/sample - loss: 26.3442\n",
      "Epoch 7/10\n",
      "13984/13984 [==============================] - 33s 2ms/sample - loss: 26.3459\n",
      "Epoch 8/10\n",
      "13984/13984 [==============================] - 32s 2ms/sample - loss: 26.3542\n",
      "Epoch 9/10\n",
      "13984/13984 [==============================] - 32s 2ms/sample - loss: 26.3628\n",
      "Epoch 10/10\n",
      "13984/13984 [==============================] - 32s 2ms/sample - loss: 26.3551\n",
      "1554/1554 [==============================] - 1s 601us/sample - loss: 26.6322\n",
      "26.632151862675926\n",
      "fold 5\n",
      "Train on 13984 samples\n",
      "Epoch 1/10\n",
      "13984/13984 [==============================] - 32s 2ms/sample - loss: 37.1408\n",
      "Epoch 2/10\n",
      "13984/13984 [==============================] - 32s 2ms/sample - loss: 34.6420\n",
      "Epoch 3/10\n",
      "13984/13984 [==============================] - 32s 2ms/sample - loss: 33.6268\n",
      "Epoch 4/10\n",
      "13984/13984 [==============================] - 32s 2ms/sample - loss: 33.4300\n",
      "Epoch 5/10\n",
      "13984/13984 [==============================] - 32s 2ms/sample - loss: 32.6656\n",
      "Epoch 6/10\n",
      "13984/13984 [==============================] - 32s 2ms/sample - loss: 31.4464\n",
      "Epoch 7/10\n",
      "13984/13984 [==============================] - 32s 2ms/sample - loss: 30.3447\n",
      "Epoch 8/10\n",
      "13984/13984 [==============================] - 32s 2ms/sample - loss: 29.4945\n",
      "Epoch 9/10\n",
      "13984/13984 [==============================] - 32s 2ms/sample - loss: 28.8957\n",
      "Epoch 10/10\n",
      "13984/13984 [==============================] - 32s 2ms/sample - loss: 28.3082\n",
      "1554/1554 [==============================] - 1s 581us/sample - loss: 27.9395\n",
      "27.939503435309177\n",
      "fold 6\n",
      "Train on 13984 samples\n",
      "Epoch 1/10\n",
      "13984/13984 [==============================] - 33s 2ms/sample - loss: 32.5009\n",
      "Epoch 2/10\n",
      "13984/13984 [==============================] - 32s 2ms/sample - loss: 28.1504\n",
      "Epoch 3/10\n",
      "13984/13984 [==============================] - 32s 2ms/sample - loss: 27.5392\n",
      "Epoch 4/10\n",
      "13984/13984 [==============================] - 32s 2ms/sample - loss: 30.3356\n",
      "Epoch 5/10\n",
      "13984/13984 [==============================] - 32s 2ms/sample - loss: 30.2130\n",
      "Epoch 6/10\n",
      "13984/13984 [==============================] - 32s 2ms/sample - loss: 27.8335\n",
      "Epoch 7/10\n",
      "13984/13984 [==============================] - 32s 2ms/sample - loss: 26.9812\n",
      "Epoch 8/10\n",
      "13984/13984 [==============================] - 32s 2ms/sample - loss: 26.8908\n",
      "Epoch 9/10\n",
      "13984/13984 [==============================] - 32s 2ms/sample - loss: 26.7390\n",
      "Epoch 10/10\n",
      "13984/13984 [==============================] - 32s 2ms/sample - loss: 26.7112\n",
      "1554/1554 [==============================] - 1s 601us/sample - loss: 27.5113\n",
      "27.511279922347885\n",
      "fold 7\n",
      "Train on 13984 samples\n",
      "Epoch 1/10\n",
      "13984/13984 [==============================] - 33s 2ms/sample - loss: 29.9457\n",
      "Epoch 2/10\n",
      "13984/13984 [==============================] - 32s 2ms/sample - loss: 26.6326\n",
      "Epoch 3/10\n",
      "13984/13984 [==============================] - 33s 2ms/sample - loss: 26.6939\n",
      "Epoch 4/10\n",
      "13984/13984 [==============================] - 32s 2ms/sample - loss: 27.0036\n",
      "Epoch 5/10\n",
      "13984/13984 [==============================] - 32s 2ms/sample - loss: 26.6476\n",
      "Epoch 6/10\n",
      "13984/13984 [==============================] - 32s 2ms/sample - loss: 29.7590\n",
      "Epoch 7/10\n",
      "13984/13984 [==============================] - 32s 2ms/sample - loss: 28.0557\n",
      "Epoch 8/10\n",
      "13984/13984 [==============================] - 32s 2ms/sample - loss: 27.0947\n",
      "Epoch 9/10\n",
      "13984/13984 [==============================] - 32s 2ms/sample - loss: 26.5848\n",
      "Epoch 10/10\n",
      "13984/13984 [==============================] - 32s 2ms/sample - loss: 26.4144\n",
      "1554/1554 [==============================] - 1s 595us/sample - loss: 29.2458\n",
      "29.245819936234366\n",
      "fold 8\n",
      "Train on 13984 samples\n",
      "Epoch 1/10\n",
      "13984/13984 [==============================] - 33s 2ms/sample - loss: 34.2522\n",
      "Epoch 2/10\n",
      "13984/13984 [==============================] - 32s 2ms/sample - loss: 30.7844\n",
      "Epoch 3/10\n",
      "13984/13984 [==============================] - 32s 2ms/sample - loss: 31.5449\n",
      "Epoch 4/10\n",
      "13984/13984 [==============================] - 32s 2ms/sample - loss: 31.2514\n",
      "Epoch 5/10\n",
      "13984/13984 [==============================] - 32s 2ms/sample - loss: 30.4849\n",
      "Epoch 6/10\n",
      "13984/13984 [==============================] - 32s 2ms/sample - loss: 31.5304\n",
      "Epoch 7/10\n",
      "13984/13984 [==============================] - 32s 2ms/sample - loss: 29.6474\n",
      "Epoch 8/10\n",
      "13984/13984 [==============================] - 32s 2ms/sample - loss: 119543.4646\n",
      "Epoch 9/10\n",
      "13984/13984 [==============================] - 32s 2ms/sample - loss: 3153524101.4189\n",
      "Epoch 10/10\n",
      "13984/13984 [==============================] - 32s 2ms/sample - loss: 4025.5643\n",
      "1554/1554 [==============================] - 1s 591us/sample - loss: 2746.7168\n",
      "2746.716753828326\n",
      "fold 9\n",
      "Train on 13985 samples\n",
      "Epoch 1/10\n"
     ]
    },
    {
     "name": "stdout",
     "output_type": "stream",
     "text": [
      "13985/13985 [==============================] - 38s 3ms/sample - loss: 35.4108\n",
      "Epoch 2/10\n",
      "13985/13985 [==============================] - 36s 3ms/sample - loss: 39.4555\n",
      "Epoch 3/10\n",
      "13985/13985 [==============================] - 36s 3ms/sample - loss: 37.6935\n",
      "Epoch 4/10\n",
      "13985/13985 [==============================] - 37s 3ms/sample - loss: 34.7887\n",
      "Epoch 5/10\n",
      "13985/13985 [==============================] - 36s 3ms/sample - loss: 33.3608\n",
      "Epoch 6/10\n",
      "13985/13985 [==============================] - 36s 3ms/sample - loss: 32.1482\n",
      "Epoch 7/10\n",
      "13985/13985 [==============================] - 37s 3ms/sample - loss: 30.7179\n",
      "Epoch 8/10\n",
      "13985/13985 [==============================] - 36s 3ms/sample - loss: 28.9790\n",
      "Epoch 9/10\n",
      "13985/13985 [==============================] - 36s 3ms/sample - loss: 27.7987\n",
      "Epoch 10/10\n",
      "13985/13985 [==============================] - 36s 3ms/sample - loss: 27.1499\n",
      "1553/1553 [==============================] - 1s 591us/sample - loss: 27.0413\n",
      "27.041331569379327\n",
      "fold 10\n",
      "Train on 13985 samples\n",
      "Epoch 1/10\n",
      "13985/13985 [==============================] - 37s 3ms/sample - loss: 37.5512\n",
      "Epoch 2/10\n",
      "13985/13985 [==============================] - 37s 3ms/sample - loss: 29.8293\n",
      "Epoch 3/10\n",
      "13985/13985 [==============================] - 36s 3ms/sample - loss: 30.3550\n",
      "Epoch 4/10\n",
      "13985/13985 [==============================] - 37s 3ms/sample - loss: 31.0104s - loss: 3\n",
      "Epoch 5/10\n",
      "13985/13985 [==============================] - 36s 3ms/sample - loss: 30.3378\n",
      "Epoch 6/10\n",
      "13985/13985 [==============================] - 36s 3ms/sample - loss: 29.3546\n",
      "Epoch 7/10\n",
      "13985/13985 [==============================] - 36s 3ms/sample - loss: 29.3710\n",
      "Epoch 8/10\n",
      "13985/13985 [==============================] - 36s 3ms/sample - loss: 28.7424\n",
      "Epoch 9/10\n",
      "13985/13985 [==============================] - 36s 3ms/sample - loss: 28.0917\n",
      "Epoch 10/10\n",
      "13985/13985 [==============================] - 36s 3ms/sample - loss: 27.4247\n",
      "1553/1553 [==============================] - 1s 595us/sample - loss: 27.9303\n",
      "27.930263325236186\n"
     ]
    }
   ],
   "source": [
    "for train, test in kfold.split(x_train, y_train):\n",
    "    print(\"fold\",fold_no)\n",
    "    kFoldModel = Sequential()\n",
    "    kFoldModel.add(LSTM(12, return_sequences=False,activation=\"relu\", input_shape=(121,7)))\n",
    "    kFoldModel.add(Dropout(0.2))\n",
    "    kFoldModel.add(Dense(50, activation=\"relu\"))\n",
    "    kFoldModel.add(Dense(1))\n",
    "    kFoldModel.compile(loss=\"mae\",optimizer=\"adam\")\n",
    "    kFoldModelScores = kFoldModel.fit(x_train[train],y_train[train],epochs=10,verbose=1)\n",
    "    \n",
    "    scores = kFoldModel.evaluate(x_train[test], y_train[test], verbose=1)\n",
    "    print(scores)\n",
    "    \n",
    "    LSTMloss.append(scores)\n",
    "    fold_no = fold_no + 1\n",
    "    \n",
    "                                              \n",
    "    "
   ]
  },
  {
   "cell_type": "code",
   "execution_count": 43,
   "metadata": {},
   "outputs": [
    {
     "name": "stdout",
     "output_type": "stream",
     "text": [
      "393.93% (+/- 833.50%)\n"
     ]
    }
   ],
   "source": [
    "print(\"%.2f%% (+/- %.2f%%)\" % (np.mean(LSTMloss), np.std(LSTMloss)))"
   ]
  },
  {
   "cell_type": "markdown",
   "metadata": {},
   "source": [
    "## LSTM(847,1)"
   ]
  },
  {
   "cell_type": "code",
   "execution_count": null,
   "metadata": {},
   "outputs": [],
   "source": [
    "lstmModel = Sequential()\n",
    "lstmModel.add(LSTM(10,input_shape=(847,1), activation =\"relu\", return_sequences=False))\n",
    "lstmModel.add(Dropout(0.3,seed=seed_value))\n",
    "lstmModel.add(Dense(50, activation=\"relu\"))\n",
    "lstmModel.add(Dense(1))\n",
    "opt = tf.keras.optimizers.Adam(learning_rate=0.001)\n",
    "lstmModel.compile(loss=\"mae\",optimizer=\"adam\",metrics=[tf.keras.metrics.RootMeanSquaredError()])"
   ]
  },
  {
   "cell_type": "code",
   "execution_count": null,
   "metadata": {},
   "outputs": [],
   "source": [
    "lstmModel.summary()"
   ]
  },
  {
   "cell_type": "code",
   "execution_count": null,
   "metadata": {},
   "outputs": [],
   "source": [
    "lstmOneHistory = lstmModel.fit(x_train_one,y_train,validation_split=0.3, epochs=50, shuffle=True)"
   ]
  },
  {
   "cell_type": "code",
   "execution_count": null,
   "metadata": {},
   "outputs": [],
   "source": [
    "lstmPredicitions = lstmModel.predict(x_train_one)"
   ]
  },
  {
   "cell_type": "code",
   "execution_count": null,
   "metadata": {},
   "outputs": [],
   "source": [
    "fig = pyplot.figure()\n",
    "fig.suptitle('DENSE CNN PREDICTIONS', fontsize=14)\n",
    "\n",
    "\n",
    "pyplot.plot(y_train,label=\"actual targets\", color=\"blue\")\n",
    "pyplot.plot(lstmPredicitions,label=\"predicted targets\", color=\"red\")\n",
    "\n",
    "\n",
    "pyplot.xlabel('sample')\n",
    "pyplot.ylabel('target')\n",
    "\n",
    "pyplot.legend()\n",
    "pyplot.show()"
   ]
  },
  {
   "cell_type": "markdown",
   "metadata": {},
   "source": [
    "## LSTM (121,7)"
   ]
  },
  {
   "cell_type": "code",
   "execution_count": null,
   "metadata": {},
   "outputs": [],
   "source": [
    "lstmModel2 = Sequential()\n",
    "# lstmModel2.add(Bidirectional(LSTM(12,input_shape=(121,7), activation =\"relu\",return_sequences=True)))\n",
    "lstmModel2.add(Bidirectional(LSTM(12, return_sequences=False,activation=\"relu\"), input_shape=(121,7)))\n",
    "lstmModel2.add(Dropout(0.2))\n",
    "lstmModel2.add(Dense(50, activation=\"relu\"))\n",
    "lstmModel2.add(Dense(1))\n",
    "lstmModel2.compile(loss=\"mae\",optimizer=\"adam\")"
   ]
  },
  {
   "cell_type": "code",
   "execution_count": null,
   "metadata": {},
   "outputs": [],
   "source": [
    "lstmModel2.summary()"
   ]
  },
  {
   "cell_type": "code",
   "execution_count": null,
   "metadata": {},
   "outputs": [],
   "source": [
    "lstmScores2 = lstmModel2.fit(x_train,y_train,validation_split=0.3, epochs=20, shuffle=True,batch_size=50)"
   ]
  },
  {
   "cell_type": "code",
   "execution_count": null,
   "metadata": {},
   "outputs": [],
   "source": [
    "lstmTargets = lstmModel2.predict(x_train)"
   ]
  },
  {
   "cell_type": "code",
   "execution_count": null,
   "metadata": {},
   "outputs": [],
   "source": [
    "fig = pyplot.figure()\n",
    "fig.suptitle('LSTM PREDICTIONS', fontsize=14)\n",
    "\n",
    "\n",
    "pyplot.plot(y_train,label=\"actual targets\", color=\"blue\")\n",
    "pyplot.plot(lstmTargets,label=\"predicted targets\", color=\"red\")\n",
    "\n",
    "\n",
    "pyplot.xlabel('sample')\n",
    "pyplot.ylabel('target')\n",
    "\n",
    "pyplot.legend()\n",
    "pyplot.show()"
   ]
  },
  {
   "cell_type": "markdown",
   "metadata": {},
   "source": [
    "## GRU"
   ]
  },
  {
   "cell_type": "code",
   "execution_count": null,
   "metadata": {},
   "outputs": [],
   "source": [
    "gruModel = Sequential()\n",
    "gruModel.add(GRU(10,input_shape=(121,7), activation =\"relu\", return_sequences=False))\n",
    "gruModel.add(Dropout(0.3,seed=seed_value))\n",
    "gruModel.add(Dense(255, activation=\"relu\"))\n",
    "gruModel.add(Dense(1))\n",
    "opt = tf.keras.optimizers.Adam(learning_rate=0.001)\n",
    "gruModel.compile(loss=\"mae\",optimizer=opt)"
   ]
  },
  {
   "cell_type": "code",
   "execution_count": null,
   "metadata": {},
   "outputs": [],
   "source": [
    "gruModel.summary()"
   ]
  },
  {
   "cell_type": "code",
   "execution_count": null,
   "metadata": {},
   "outputs": [],
   "source": [
    "gruScores = gruModel.fit(x_train,y_train,validation_split=0.3, epochs=50, shuffle=True)"
   ]
  },
  {
   "cell_type": "code",
   "execution_count": null,
   "metadata": {},
   "outputs": [],
   "source": [
    "gruPredictions = gruModel.predict(x_train)"
   ]
  },
  {
   "cell_type": "code",
   "execution_count": null,
   "metadata": {},
   "outputs": [],
   "source": [
    "fig = pyplot.figure()\n",
    "fig.suptitle('DENSE CNN PREDICTIONS', fontsize=14)\n",
    "\n",
    "\n",
    "pyplot.plot(y_train,label=\"actual targets\", color=\"blue\")\n",
    "pyplot.plot(gruPredictions,label=\"predicted targets\", color=\"red\")\n",
    "\n",
    "\n",
    "pyplot.xlabel('sample')\n",
    "pyplot.ylabel('target')\n",
    "\n",
    "pyplot.legend()\n",
    "pyplot.show()"
   ]
  },
  {
   "cell_type": "markdown",
   "metadata": {},
   "source": [
    "## k-fold CNN"
   ]
  },
  {
   "cell_type": "code",
   "execution_count": 34,
   "metadata": {},
   "outputs": [],
   "source": [
    "cnn_fold_no = 1\n",
    "cnnScores= []"
   ]
  },
  {
   "cell_type": "code",
   "execution_count": 35,
   "metadata": {},
   "outputs": [
    {
     "name": "stdout",
     "output_type": "stream",
     "text": [
      "Train on 13984 samples\n",
      "Epoch 1/10\n",
      "13984/13984 [==============================] - 1s 77us/sample - loss: 30.6015\n",
      "Epoch 2/10\n",
      "13984/13984 [==============================] - 1s 55us/sample - loss: 27.1677\n",
      "Epoch 3/10\n",
      "13984/13984 [==============================] - 1s 55us/sample - loss: 26.8500\n",
      "Epoch 4/10\n",
      "13984/13984 [==============================] - 1s 55us/sample - loss: 26.5057\n",
      "Epoch 5/10\n",
      "13984/13984 [==============================] - 1s 55us/sample - loss: 26.2935\n",
      "Epoch 6/10\n",
      "13984/13984 [==============================] - 1s 55us/sample - loss: 26.0267\n",
      "Epoch 7/10\n",
      "13984/13984 [==============================] - 1s 55us/sample - loss: 25.5638\n",
      "Epoch 8/10\n",
      "13984/13984 [==============================] - 1s 57us/sample - loss: 25.3076\n",
      "Epoch 9/10\n",
      " 8350/13984 [================>.............] - ETA: 0s - loss: 24.8022"
     ]
    },
    {
     "ename": "KeyboardInterrupt",
     "evalue": "",
     "output_type": "error",
     "traceback": [
      "\u001b[1;31m---------------------------------------------------------------------------\u001b[0m",
      "\u001b[1;31mKeyboardInterrupt\u001b[0m                         Traceback (most recent call last)",
      "\u001b[1;32m<ipython-input-35-2447f44137e8>\u001b[0m in \u001b[0;36m<module>\u001b[1;34m\u001b[0m\n\u001b[0;32m      8\u001b[0m     \u001b[0mKCnnModel\u001b[0m\u001b[1;33m.\u001b[0m\u001b[0madd\u001b[0m\u001b[1;33m(\u001b[0m\u001b[0mDense\u001b[0m\u001b[1;33m(\u001b[0m\u001b[1;36m1\u001b[0m\u001b[1;33m)\u001b[0m\u001b[1;33m)\u001b[0m\u001b[1;33m\u001b[0m\u001b[1;33m\u001b[0m\u001b[0m\n\u001b[0;32m      9\u001b[0m     \u001b[0mKCnnModel\u001b[0m\u001b[1;33m.\u001b[0m\u001b[0mcompile\u001b[0m\u001b[1;33m(\u001b[0m\u001b[0moptimizer\u001b[0m\u001b[1;33m=\u001b[0m\u001b[1;34m'adam'\u001b[0m\u001b[1;33m,\u001b[0m \u001b[0mloss\u001b[0m\u001b[1;33m=\u001b[0m\u001b[1;34m'mae'\u001b[0m\u001b[1;33m)\u001b[0m\u001b[1;33m\u001b[0m\u001b[1;33m\u001b[0m\u001b[0m\n\u001b[1;32m---> 10\u001b[1;33m     \u001b[0mKFoldModelScores\u001b[0m \u001b[1;33m=\u001b[0m \u001b[0mKCnnModel\u001b[0m\u001b[1;33m.\u001b[0m\u001b[0mfit\u001b[0m\u001b[1;33m(\u001b[0m\u001b[0mx_train\u001b[0m\u001b[1;33m[\u001b[0m\u001b[0mtrain\u001b[0m\u001b[1;33m]\u001b[0m\u001b[1;33m,\u001b[0m\u001b[0my_train\u001b[0m\u001b[1;33m[\u001b[0m\u001b[0mtrain\u001b[0m\u001b[1;33m]\u001b[0m\u001b[1;33m,\u001b[0m\u001b[0mepochs\u001b[0m\u001b[1;33m=\u001b[0m\u001b[1;36m10\u001b[0m\u001b[1;33m,\u001b[0m\u001b[0mbatch_size\u001b[0m\u001b[1;33m=\u001b[0m\u001b[1;36m50\u001b[0m\u001b[1;33m,\u001b[0m\u001b[0mverbose\u001b[0m\u001b[1;33m=\u001b[0m\u001b[1;36m1\u001b[0m\u001b[1;33m)\u001b[0m\u001b[1;33m\u001b[0m\u001b[1;33m\u001b[0m\u001b[0m\n\u001b[0m\u001b[0;32m     11\u001b[0m \u001b[1;33m\u001b[0m\u001b[0m\n\u001b[0;32m     12\u001b[0m     \u001b[1;31m# Generate generalization metrics\u001b[0m\u001b[1;33m\u001b[0m\u001b[1;33m\u001b[0m\u001b[1;33m\u001b[0m\u001b[0m\n",
      "\u001b[1;32m~\\anaconda3\\envs\\airPollution\\lib\\site-packages\\tensorflow_core\\python\\keras\\engine\\training.py\u001b[0m in \u001b[0;36mfit\u001b[1;34m(self, x, y, batch_size, epochs, verbose, callbacks, validation_split, validation_data, shuffle, class_weight, sample_weight, initial_epoch, steps_per_epoch, validation_steps, validation_freq, max_queue_size, workers, use_multiprocessing, **kwargs)\u001b[0m\n\u001b[0;32m    817\u001b[0m         \u001b[0mmax_queue_size\u001b[0m\u001b[1;33m=\u001b[0m\u001b[0mmax_queue_size\u001b[0m\u001b[1;33m,\u001b[0m\u001b[1;33m\u001b[0m\u001b[1;33m\u001b[0m\u001b[0m\n\u001b[0;32m    818\u001b[0m         \u001b[0mworkers\u001b[0m\u001b[1;33m=\u001b[0m\u001b[0mworkers\u001b[0m\u001b[1;33m,\u001b[0m\u001b[1;33m\u001b[0m\u001b[1;33m\u001b[0m\u001b[0m\n\u001b[1;32m--> 819\u001b[1;33m         use_multiprocessing=use_multiprocessing)\n\u001b[0m\u001b[0;32m    820\u001b[0m \u001b[1;33m\u001b[0m\u001b[0m\n\u001b[0;32m    821\u001b[0m   def evaluate(self,\n",
      "\u001b[1;32m~\\anaconda3\\envs\\airPollution\\lib\\site-packages\\tensorflow_core\\python\\keras\\engine\\training_v2.py\u001b[0m in \u001b[0;36mfit\u001b[1;34m(self, model, x, y, batch_size, epochs, verbose, callbacks, validation_split, validation_data, shuffle, class_weight, sample_weight, initial_epoch, steps_per_epoch, validation_steps, validation_freq, max_queue_size, workers, use_multiprocessing, **kwargs)\u001b[0m\n\u001b[0;32m    340\u001b[0m                 \u001b[0mmode\u001b[0m\u001b[1;33m=\u001b[0m\u001b[0mModeKeys\u001b[0m\u001b[1;33m.\u001b[0m\u001b[0mTRAIN\u001b[0m\u001b[1;33m,\u001b[0m\u001b[1;33m\u001b[0m\u001b[1;33m\u001b[0m\u001b[0m\n\u001b[0;32m    341\u001b[0m                 \u001b[0mtraining_context\u001b[0m\u001b[1;33m=\u001b[0m\u001b[0mtraining_context\u001b[0m\u001b[1;33m,\u001b[0m\u001b[1;33m\u001b[0m\u001b[1;33m\u001b[0m\u001b[0m\n\u001b[1;32m--> 342\u001b[1;33m                 total_epochs=epochs)\n\u001b[0m\u001b[0;32m    343\u001b[0m             \u001b[0mcbks\u001b[0m\u001b[1;33m.\u001b[0m\u001b[0mmake_logs\u001b[0m\u001b[1;33m(\u001b[0m\u001b[0mmodel\u001b[0m\u001b[1;33m,\u001b[0m \u001b[0mepoch_logs\u001b[0m\u001b[1;33m,\u001b[0m \u001b[0mtraining_result\u001b[0m\u001b[1;33m,\u001b[0m \u001b[0mModeKeys\u001b[0m\u001b[1;33m.\u001b[0m\u001b[0mTRAIN\u001b[0m\u001b[1;33m)\u001b[0m\u001b[1;33m\u001b[0m\u001b[1;33m\u001b[0m\u001b[0m\n\u001b[0;32m    344\u001b[0m \u001b[1;33m\u001b[0m\u001b[0m\n",
      "\u001b[1;32m~\\anaconda3\\envs\\airPollution\\lib\\site-packages\\tensorflow_core\\python\\keras\\engine\\training_v2.py\u001b[0m in \u001b[0;36mrun_one_epoch\u001b[1;34m(model, iterator, execution_function, dataset_size, batch_size, strategy, steps_per_epoch, num_samples, mode, training_context, total_epochs)\u001b[0m\n\u001b[0;32m    126\u001b[0m         step=step, mode=mode, size=current_batch_size) as batch_logs:\n\u001b[0;32m    127\u001b[0m       \u001b[1;32mtry\u001b[0m\u001b[1;33m:\u001b[0m\u001b[1;33m\u001b[0m\u001b[1;33m\u001b[0m\u001b[0m\n\u001b[1;32m--> 128\u001b[1;33m         \u001b[0mbatch_outs\u001b[0m \u001b[1;33m=\u001b[0m \u001b[0mexecution_function\u001b[0m\u001b[1;33m(\u001b[0m\u001b[0miterator\u001b[0m\u001b[1;33m)\u001b[0m\u001b[1;33m\u001b[0m\u001b[1;33m\u001b[0m\u001b[0m\n\u001b[0m\u001b[0;32m    129\u001b[0m       \u001b[1;32mexcept\u001b[0m \u001b[1;33m(\u001b[0m\u001b[0mStopIteration\u001b[0m\u001b[1;33m,\u001b[0m \u001b[0merrors\u001b[0m\u001b[1;33m.\u001b[0m\u001b[0mOutOfRangeError\u001b[0m\u001b[1;33m)\u001b[0m\u001b[1;33m:\u001b[0m\u001b[1;33m\u001b[0m\u001b[1;33m\u001b[0m\u001b[0m\n\u001b[0;32m    130\u001b[0m         \u001b[1;31m# TODO(kaftan): File bug about tf function and errors.OutOfRangeError?\u001b[0m\u001b[1;33m\u001b[0m\u001b[1;33m\u001b[0m\u001b[1;33m\u001b[0m\u001b[0m\n",
      "\u001b[1;32m~\\anaconda3\\envs\\airPollution\\lib\\site-packages\\tensorflow_core\\python\\keras\\engine\\training_v2_utils.py\u001b[0m in \u001b[0;36mexecution_function\u001b[1;34m(input_fn)\u001b[0m\n\u001b[0;32m     96\u001b[0m     \u001b[1;31m# `numpy` translates Tensors to values in Eager mode.\u001b[0m\u001b[1;33m\u001b[0m\u001b[1;33m\u001b[0m\u001b[1;33m\u001b[0m\u001b[0m\n\u001b[0;32m     97\u001b[0m     return nest.map_structure(_non_none_constant_value,\n\u001b[1;32m---> 98\u001b[1;33m                               distributed_function(input_fn))\n\u001b[0m\u001b[0;32m     99\u001b[0m \u001b[1;33m\u001b[0m\u001b[0m\n\u001b[0;32m    100\u001b[0m   \u001b[1;32mreturn\u001b[0m \u001b[0mexecution_function\u001b[0m\u001b[1;33m\u001b[0m\u001b[1;33m\u001b[0m\u001b[0m\n",
      "\u001b[1;32m~\\anaconda3\\envs\\airPollution\\lib\\site-packages\\tensorflow_core\\python\\util\\nest.py\u001b[0m in \u001b[0;36mmap_structure\u001b[1;34m(func, *structure, **kwargs)\u001b[0m\n\u001b[0;32m    566\u001b[0m \u001b[1;33m\u001b[0m\u001b[0m\n\u001b[0;32m    567\u001b[0m   return pack_sequence_as(\n\u001b[1;32m--> 568\u001b[1;33m       \u001b[0mstructure\u001b[0m\u001b[1;33m[\u001b[0m\u001b[1;36m0\u001b[0m\u001b[1;33m]\u001b[0m\u001b[1;33m,\u001b[0m \u001b[1;33m[\u001b[0m\u001b[0mfunc\u001b[0m\u001b[1;33m(\u001b[0m\u001b[1;33m*\u001b[0m\u001b[0mx\u001b[0m\u001b[1;33m)\u001b[0m \u001b[1;32mfor\u001b[0m \u001b[0mx\u001b[0m \u001b[1;32min\u001b[0m \u001b[0mentries\u001b[0m\u001b[1;33m]\u001b[0m\u001b[1;33m,\u001b[0m\u001b[1;33m\u001b[0m\u001b[1;33m\u001b[0m\u001b[0m\n\u001b[0m\u001b[0;32m    569\u001b[0m       expand_composites=expand_composites)\n\u001b[0;32m    570\u001b[0m \u001b[1;33m\u001b[0m\u001b[0m\n",
      "\u001b[1;32m~\\anaconda3\\envs\\airPollution\\lib\\site-packages\\tensorflow_core\\python\\util\\nest.py\u001b[0m in \u001b[0;36m<listcomp>\u001b[1;34m(.0)\u001b[0m\n\u001b[0;32m    566\u001b[0m \u001b[1;33m\u001b[0m\u001b[0m\n\u001b[0;32m    567\u001b[0m   return pack_sequence_as(\n\u001b[1;32m--> 568\u001b[1;33m       \u001b[0mstructure\u001b[0m\u001b[1;33m[\u001b[0m\u001b[1;36m0\u001b[0m\u001b[1;33m]\u001b[0m\u001b[1;33m,\u001b[0m \u001b[1;33m[\u001b[0m\u001b[0mfunc\u001b[0m\u001b[1;33m(\u001b[0m\u001b[1;33m*\u001b[0m\u001b[0mx\u001b[0m\u001b[1;33m)\u001b[0m \u001b[1;32mfor\u001b[0m \u001b[0mx\u001b[0m \u001b[1;32min\u001b[0m \u001b[0mentries\u001b[0m\u001b[1;33m]\u001b[0m\u001b[1;33m,\u001b[0m\u001b[1;33m\u001b[0m\u001b[1;33m\u001b[0m\u001b[0m\n\u001b[0m\u001b[0;32m    569\u001b[0m       expand_composites=expand_composites)\n\u001b[0;32m    570\u001b[0m \u001b[1;33m\u001b[0m\u001b[0m\n",
      "\u001b[1;32m~\\anaconda3\\envs\\airPollution\\lib\\site-packages\\tensorflow_core\\python\\keras\\engine\\training_v2_utils.py\u001b[0m in \u001b[0;36m_non_none_constant_value\u001b[1;34m(v)\u001b[0m\n\u001b[0;32m    128\u001b[0m \u001b[1;33m\u001b[0m\u001b[0m\n\u001b[0;32m    129\u001b[0m \u001b[1;32mdef\u001b[0m \u001b[0m_non_none_constant_value\u001b[0m\u001b[1;33m(\u001b[0m\u001b[0mv\u001b[0m\u001b[1;33m)\u001b[0m\u001b[1;33m:\u001b[0m\u001b[1;33m\u001b[0m\u001b[1;33m\u001b[0m\u001b[0m\n\u001b[1;32m--> 130\u001b[1;33m   \u001b[0mconstant_value\u001b[0m \u001b[1;33m=\u001b[0m \u001b[0mtensor_util\u001b[0m\u001b[1;33m.\u001b[0m\u001b[0mconstant_value\u001b[0m\u001b[1;33m(\u001b[0m\u001b[0mv\u001b[0m\u001b[1;33m)\u001b[0m\u001b[1;33m\u001b[0m\u001b[1;33m\u001b[0m\u001b[0m\n\u001b[0m\u001b[0;32m    131\u001b[0m   \u001b[1;32mreturn\u001b[0m \u001b[0mconstant_value\u001b[0m \u001b[1;32mif\u001b[0m \u001b[0mconstant_value\u001b[0m \u001b[1;32mis\u001b[0m \u001b[1;32mnot\u001b[0m \u001b[1;32mNone\u001b[0m \u001b[1;32melse\u001b[0m \u001b[0mv\u001b[0m\u001b[1;33m\u001b[0m\u001b[1;33m\u001b[0m\u001b[0m\n\u001b[0;32m    132\u001b[0m \u001b[1;33m\u001b[0m\u001b[0m\n",
      "\u001b[1;32m~\\anaconda3\\envs\\airPollution\\lib\\site-packages\\tensorflow_core\\python\\framework\\tensor_util.py\u001b[0m in \u001b[0;36mconstant_value\u001b[1;34m(tensor, partial)\u001b[0m\n\u001b[0;32m    820\u001b[0m   \"\"\"\n\u001b[0;32m    821\u001b[0m   \u001b[1;32mif\u001b[0m \u001b[0misinstance\u001b[0m\u001b[1;33m(\u001b[0m\u001b[0mtensor\u001b[0m\u001b[1;33m,\u001b[0m \u001b[0mops\u001b[0m\u001b[1;33m.\u001b[0m\u001b[0mEagerTensor\u001b[0m\u001b[1;33m)\u001b[0m\u001b[1;33m:\u001b[0m\u001b[1;33m\u001b[0m\u001b[1;33m\u001b[0m\u001b[0m\n\u001b[1;32m--> 822\u001b[1;33m     \u001b[1;32mreturn\u001b[0m \u001b[0mtensor\u001b[0m\u001b[1;33m.\u001b[0m\u001b[0mnumpy\u001b[0m\u001b[1;33m(\u001b[0m\u001b[1;33m)\u001b[0m\u001b[1;33m\u001b[0m\u001b[1;33m\u001b[0m\u001b[0m\n\u001b[0m\u001b[0;32m    823\u001b[0m   \u001b[1;32mif\u001b[0m \u001b[1;32mnot\u001b[0m \u001b[0mis_tensor\u001b[0m\u001b[1;33m(\u001b[0m\u001b[0mtensor\u001b[0m\u001b[1;33m)\u001b[0m\u001b[1;33m:\u001b[0m\u001b[1;33m\u001b[0m\u001b[1;33m\u001b[0m\u001b[0m\n\u001b[0;32m    824\u001b[0m     \u001b[1;32mreturn\u001b[0m \u001b[0mtensor\u001b[0m\u001b[1;33m\u001b[0m\u001b[1;33m\u001b[0m\u001b[0m\n",
      "\u001b[1;32m~\\anaconda3\\envs\\airPollution\\lib\\site-packages\\tensorflow_core\\python\\framework\\ops.py\u001b[0m in \u001b[0;36mnumpy\u001b[1;34m(self)\u001b[0m\n\u001b[0;32m    940\u001b[0m     \"\"\"\n\u001b[0;32m    941\u001b[0m     \u001b[1;31m# TODO(slebedev): Consider avoiding a copy for non-CPU or remote tensors.\u001b[0m\u001b[1;33m\u001b[0m\u001b[1;33m\u001b[0m\u001b[1;33m\u001b[0m\u001b[0m\n\u001b[1;32m--> 942\u001b[1;33m     \u001b[0mmaybe_arr\u001b[0m \u001b[1;33m=\u001b[0m \u001b[0mself\u001b[0m\u001b[1;33m.\u001b[0m\u001b[0m_numpy\u001b[0m\u001b[1;33m(\u001b[0m\u001b[1;33m)\u001b[0m  \u001b[1;31m# pylint: disable=protected-access\u001b[0m\u001b[1;33m\u001b[0m\u001b[1;33m\u001b[0m\u001b[0m\n\u001b[0m\u001b[0;32m    943\u001b[0m     \u001b[1;32mreturn\u001b[0m \u001b[0mmaybe_arr\u001b[0m\u001b[1;33m.\u001b[0m\u001b[0mcopy\u001b[0m\u001b[1;33m(\u001b[0m\u001b[1;33m)\u001b[0m \u001b[1;32mif\u001b[0m \u001b[0misinstance\u001b[0m\u001b[1;33m(\u001b[0m\u001b[0mmaybe_arr\u001b[0m\u001b[1;33m,\u001b[0m \u001b[0mnp\u001b[0m\u001b[1;33m.\u001b[0m\u001b[0mndarray\u001b[0m\u001b[1;33m)\u001b[0m \u001b[1;32melse\u001b[0m \u001b[0mmaybe_arr\u001b[0m\u001b[1;33m\u001b[0m\u001b[1;33m\u001b[0m\u001b[0m\n\u001b[0;32m    944\u001b[0m \u001b[1;33m\u001b[0m\u001b[0m\n",
      "\u001b[1;32m~\\anaconda3\\envs\\airPollution\\lib\\site-packages\\tensorflow_core\\python\\framework\\ops.py\u001b[0m in \u001b[0;36m_numpy\u001b[1;34m(self)\u001b[0m\n\u001b[0;32m    906\u001b[0m     \u001b[1;31m# pylint: disable=protected-access\u001b[0m\u001b[1;33m\u001b[0m\u001b[1;33m\u001b[0m\u001b[1;33m\u001b[0m\u001b[0m\n\u001b[0;32m    907\u001b[0m     \u001b[1;32mtry\u001b[0m\u001b[1;33m:\u001b[0m\u001b[1;33m\u001b[0m\u001b[1;33m\u001b[0m\u001b[0m\n\u001b[1;32m--> 908\u001b[1;33m       \u001b[1;32mreturn\u001b[0m \u001b[0mself\u001b[0m\u001b[1;33m.\u001b[0m\u001b[0m_numpy_internal\u001b[0m\u001b[1;33m(\u001b[0m\u001b[1;33m)\u001b[0m\u001b[1;33m\u001b[0m\u001b[1;33m\u001b[0m\u001b[0m\n\u001b[0m\u001b[0;32m    909\u001b[0m     \u001b[1;32mexcept\u001b[0m \u001b[0mcore\u001b[0m\u001b[1;33m.\u001b[0m\u001b[0m_NotOkStatusException\u001b[0m \u001b[1;32mas\u001b[0m \u001b[0me\u001b[0m\u001b[1;33m:\u001b[0m\u001b[1;33m\u001b[0m\u001b[1;33m\u001b[0m\u001b[0m\n\u001b[0;32m    910\u001b[0m       \u001b[0msix\u001b[0m\u001b[1;33m.\u001b[0m\u001b[0mraise_from\u001b[0m\u001b[1;33m(\u001b[0m\u001b[0mcore\u001b[0m\u001b[1;33m.\u001b[0m\u001b[0m_status_to_exception\u001b[0m\u001b[1;33m(\u001b[0m\u001b[0me\u001b[0m\u001b[1;33m.\u001b[0m\u001b[0mcode\u001b[0m\u001b[1;33m,\u001b[0m \u001b[0me\u001b[0m\u001b[1;33m.\u001b[0m\u001b[0mmessage\u001b[0m\u001b[1;33m)\u001b[0m\u001b[1;33m,\u001b[0m \u001b[1;32mNone\u001b[0m\u001b[1;33m)\u001b[0m\u001b[1;33m\u001b[0m\u001b[1;33m\u001b[0m\u001b[0m\n",
      "\u001b[1;31mKeyboardInterrupt\u001b[0m: "
     ]
    }
   ],
   "source": [
    "\n",
    "for train, test in kfold.split(x_train, y_train):\n",
    "    print(\"Fold:\",cnn_fold_no)\n",
    "    KCnnModel = Sequential()\n",
    "    KCnnModel.add(Conv1D(filters=20, kernel_size=3, activation='relu', input_shape=(121, 7)))\n",
    "    KCnnModel.add(MaxPooling1D(pool_size=2))\n",
    "    KCnnModel.add(Flatten())\n",
    "    KCnnModel.add(Dense(200, activation='relu'))\n",
    "    KCnnModel.add(Dense(1))\n",
    "    KCnnModel.compile(optimizer='adam', loss='mae')\n",
    "    KFoldModelScores = KCnnModel.fit(x_train[train],y_train[train],epochs=10,batch_size=50,verbose=1)\n",
    "    \n",
    "    # Generate generalization metrics\n",
    "    scores = KCnnModel.evaluate(x_train[test], y_train[test], verbose=0)\n",
    "    print(scores)\n",
    "    \n",
    "    cnnScores.append(scores)\n",
    "    \n",
    "  \n",
    "    \n",
    "    cnn_fold_no = cnn_fold_no + 1\n",
    "    "
   ]
  },
  {
   "cell_type": "code",
   "execution_count": 33,
   "metadata": {},
   "outputs": [
    {
     "name": "stdout",
     "output_type": "stream",
     "text": [
      "27.31% (+/- 1.12%)\n"
     ]
    }
   ],
   "source": [
    "print(\"%.2f%% (+/- %.2f%%)\" % (np.mean(cnnScores), np.std(cnnScores)))"
   ]
  },
  {
   "cell_type": "markdown",
   "metadata": {},
   "source": [
    "## CNN"
   ]
  },
  {
   "cell_type": "code",
   "execution_count": null,
   "metadata": {},
   "outputs": [],
   "source": [
    "cnnModel = Sequential()\n",
    "cnnModel.add(Conv1D(filters=20, kernel_size=3, activation='relu', input_shape=(121, 7)))\n",
    "cnnModel.add(MaxPooling1D(pool_size=2))\n",
    "cnnModel.add(Flatten())\n",
    "cnnModel.add(Dense(200, activation='relu'))\n",
    "cnnModel.add(Dense(1))\n",
    "cnnModel.compile(optimizer='adam', loss='mae')"
   ]
  },
  {
   "cell_type": "code",
   "execution_count": null,
   "metadata": {},
   "outputs": [],
   "source": [
    "cnnModel.summary()"
   ]
  },
  {
   "cell_type": "code",
   "execution_count": null,
   "metadata": {},
   "outputs": [],
   "source": [
    "cnnScores2 = cnnModel.fit(x_train, y_train, epochs=50, verbose=1,validation_split=0.3,shuffle=True)"
   ]
  },
  {
   "cell_type": "code",
   "execution_count": null,
   "metadata": {},
   "outputs": [],
   "source": [
    "cnnModel2 = Sequential()\n",
    "cnnModel2.add(Conv1D(filters=6, kernel_size=3, activation='relu', input_shape=(121, 7)))\n",
    "cnnModel2.add(Conv1D(filters=12, kernel_size=3, activation='relu', input_shape=(121, 7)))\n",
    "cnnModel2.add(MaxPooling1D(pool_size=2))\n",
    "cnnModel2.add(Dropout(0.25))\n",
    "cnnModel2.add(Flatten())\n",
    "cnnModel2.add(Dense(128, activation='relu'))\n",
    "cnnModel2.add(Dropout(0.25))\n",
    "cnnModel2.add(Dense(1))\n",
    "cnnModel2.compile(optimizer='adam', loss='mae')"
   ]
  },
  {
   "cell_type": "code",
   "execution_count": null,
   "metadata": {},
   "outputs": [],
   "source": [
    "cnnModel2.summary()"
   ]
  },
  {
   "cell_type": "code",
   "execution_count": null,
   "metadata": {},
   "outputs": [],
   "source": [
    "cnnScores3 = cnnModel2.fit(x_train, y_train, epochs=50, verbose=1,validation_split=0.3,shuffle=True)"
   ]
  },
  {
   "cell_type": "code",
   "execution_count": null,
   "metadata": {},
   "outputs": [],
   "source": [
    "cnnPredicitions = cnnModel2.predict(x_train)"
   ]
  },
  {
   "cell_type": "code",
   "execution_count": null,
   "metadata": {},
   "outputs": [],
   "source": [
    "cnnPredicitions = cnnPredicitions.flatten()"
   ]
  },
  {
   "cell_type": "code",
   "execution_count": null,
   "metadata": {},
   "outputs": [],
   "source": [
    "cnnPredicitions.shape"
   ]
  },
  {
   "cell_type": "code",
   "execution_count": null,
   "metadata": {},
   "outputs": [],
   "source": [
    "y_train.shape"
   ]
  },
  {
   "cell_type": "code",
   "execution_count": null,
   "metadata": {},
   "outputs": [],
   "source": [
    "fig = pyplot.figure()\n",
    "fig.suptitle('DENSE CNN PREDICTIONS', fontsize=14)\n",
    "\n",
    "\n",
    "pyplot.plot(y_train,label=\"actual targets\", color=\"blue\")\n",
    "pyplot.plot(cnnPredicitions,label=\"predicted targets\", color=\"red\")\n",
    "\n",
    "\n",
    "pyplot.xlabel('sample')\n",
    "pyplot.ylabel('target')\n",
    "\n",
    "pyplot.legend()\n",
    "pyplot.show()"
   ]
  },
  {
   "cell_type": "markdown",
   "metadata": {},
   "source": [
    "## MULTI-HEAD CNN"
   ]
  },
  {
   "cell_type": "code",
   "execution_count": null,
   "metadata": {},
   "outputs": [],
   "source": [
    "inputOne = Input(shape=(121,1))\n",
    "cnn1 = Conv1D(filters=6, kernel_size=3, activation='relu')(inputOne)\n",
    "cnn1 = Conv1D(filters=12, kernel_size=3, activation='relu')(inputOne)\n",
    "cnn1 = MaxPooling1D(pool_size=2)(cnn1)\n",
    "cnn1 = Dropout(0.25)(cnn1)\n",
    "cnn1 = Flatten()(cnn1)\n",
    "\n",
    "inputTwo = Input(shape=(121,1))\n",
    "cnn2 = Conv1D(filters=6, kernel_size=3, activation='relu')(inputTwo)\n",
    "cnn2 = Conv1D(filters=12, kernel_size=3, activation='relu')(inputTwo)\n",
    "cnn2 = MaxPooling1D(pool_size=2)(cnn2)\n",
    "cnn2 = Dropout(0.25)(cnn2)\n",
    "cnn2 = Flatten()(cnn2)\n",
    "\n",
    "inputThree = Input(shape=(121,1))\n",
    "cnn3 = Conv1D(filters=64, kernel_size=3, activation='relu')(inputThree)\n",
    "cnn3 = Conv1D(filters=12, kernel_size=3, activation='relu')(inputThree)\n",
    "cnn3 = MaxPooling1D(pool_size=2)(cnn3)\n",
    "cnn3 = Dropout(0.25)(cnn3)\n",
    "cnn3 = Flatten()(cnn3)\n",
    "\n",
    "inputFour = Input(shape=(121,1))\n",
    "cnn4 = Conv1D(filters=64, kernel_size=3, activation='relu')(inputFour)\n",
    "cnn4 = Conv1D(filters=12, kernel_size=3, activation='relu')(inputFour)\n",
    "cnn4 = MaxPooling1D(pool_size=2)(cnn4)\n",
    "cnn4 = Dropout(0.25)(cnn4)\n",
    "cnn4 = Flatten()(cnn4)\n",
    "\n",
    "inputFive = Input(shape=(121,1))\n",
    "cnn5 = Conv1D(filters=64, kernel_size=3, activation='relu')(inputFive)\n",
    "cnn5 = Conv1D(filters=12, kernel_size=3, activation='relu')(inputFive)\n",
    "cnn5 = MaxPooling1D(pool_size=2)(cnn5)\n",
    "cnn5 = Dropout(0.25)(cnn5)\n",
    "cnn5 = Flatten()(cnn5)\n",
    "\n",
    "inputSix = Input(shape=(121,1))\n",
    "cnn6 = Conv1D(filters=64, kernel_size=3, activation='relu')(inputSix)\n",
    "cnn6 = Conv1D(filters=12, kernel_size=3, activation='relu')(inputSix)\n",
    "cnn6 = MaxPooling1D(pool_size=2)(cnn6)\n",
    "cnn6 = Dropout(0.25)(cnn6)\n",
    "cnn6 = Flatten()(cnn6)\n",
    "\n",
    "inputSeven = Input(shape=(121,1))\n",
    "cnn7 = Conv1D(filters=64, kernel_size=3, activation='relu')(inputSeven)\n",
    "cnn7 = Conv1D(filters=12, kernel_size=3, activation='relu')(inputSeven)\n",
    "cnn7 = MaxPooling1D(pool_size=2)(cnn7)\n",
    "cnn7 = Dropout(0.25)(cnn7)\n",
    "cnn7 = Flatten()(cnn7)\n",
    "\n",
    "merge = Concatenate()([cnn1, cnn2,cnn3,cnn4,cnn5,cnn6,cnn7])\n",
    "\n",
    "dense = Dense(200, activation='relu')(merge)\n",
    "dense2 = Dense(200, activation='relu')(dense)\n",
    "\n",
    "output = Dense(1)(dense2)\n",
    "\n",
    "MutliCnnModel = Model(inputs=[inputOne,inputTwo,inputThree,inputFour,inputFive,inputSix,inputSeven],outputs=output)\n",
    "\n",
    "MutliCnnModel.compile(optimizer='adam',loss='mae')"
   ]
  },
  {
   "cell_type": "code",
   "execution_count": null,
   "metadata": {},
   "outputs": [],
   "source": [
    "MutliCnnModel.summary()"
   ]
  },
  {
   "cell_type": "code",
   "execution_count": null,
   "metadata": {},
   "outputs": [],
   "source": [
    "multiHeadCNNSCORESDEEPER = MutliCnnModel.fit([features[0],features[1],features[2],features[3],features[4],features[5],features[6]],y_train_cnn,epochs=50,validation_split=0.3,verbose=1)"
   ]
  },
  {
   "cell_type": "code",
   "execution_count": null,
   "metadata": {},
   "outputs": [],
   "source": [
    "multiHeadTargets = MutliCnnModel.predict([features[0],features[1],features[2],features[3],features[4],features[5],features[6]])"
   ]
  },
  {
   "cell_type": "code",
   "execution_count": null,
   "metadata": {},
   "outputs": [],
   "source": [
    "fig = pyplot.figure()\n",
    "fig.suptitle('MULTI HEAD CNN TARGETS', fontsize=14)\n",
    "\n",
    "\n",
    "pyplot.plot(y_train,label=\"actual targets\", color=\"blue\")\n",
    "pyplot.plot(multiHeadTargets,label=\"predicted targets\", color=\"red\")\n",
    "\n",
    "\n",
    "pyplot.xlabel('sample')\n",
    "pyplot.ylabel('target')\n",
    "\n",
    "pyplot.legend()\n",
    "pyplot.show()"
   ]
  },
  {
   "cell_type": "code",
   "execution_count": null,
   "metadata": {},
   "outputs": [],
   "source": [
    "fig = pyplot.figure()\n",
    "fig.suptitle('LSTM VS DENSE CNN', fontsize=14)\n",
    "\n",
    "# pyplot.plot(gruScores.history['loss'],label=\"GRU Train\", color=\"red\")\n",
    "# pyplot.plot(gruScores.history['val_loss'],label=\"GRU Test\", color=\"green\")\n",
    "\n",
    "# pyplot.plot(lstmScores.history['root_mean_squared_error'],label=\"LSTM Train\", color=\"blue\")\n",
    "# pyplot.plot(lstmScores.history['val_root_mean_squared_error'],label=\"LSTM Test\", color=\"brown\")\n",
    "\n",
    "pyplot.plot(lstmTanhScores.history['loss'],label=\"LSTM Train\", color=\"red\")\n",
    "pyplot.plot(lstmTanhScores.history['val_loss'],label=\"LSTM Test\", color=\"green\")\n",
    "\n",
    "pyplot.plot(lstmScores2.history['loss'],label=\"LSTM Train\", color=\"blue\")\n",
    "pyplot.plot(lstmScores2.history['val_loss'],label=\"LSTM Test\", color=\"black\")\n",
    "\n",
    "# pyplot.plot(cnnScores2.history['loss'],label=\"CNN Train\", color=\"red\")\n",
    "# pyplot.plot(cnnScores2.history['val_loss'],label=\"CNN Test\", color=\"green\")\n",
    "\n",
    "# pyplot.plot(cnnScores3.history['loss'],label=\"DENSE CNN Train\", color=\"blue\")\n",
    "# pyplot.plot(cnnScores3.history['val_loss'],label=\"DENSE CNN Test\", color=\"black\")\n",
    "\n",
    "# pyplot.plot(cnnScores2.history['loss'],label=\"CNN Train\", color=\"blue\")\n",
    "# pyplot.plot(cnnScores2.history['val_loss'],label=\"CNN Test\", color=\"black\")\n",
    "\n",
    "\n",
    "# pyplot.plot(multiHeadCNNSCORES.history['loss'],label=\"MULTI HEAD CNN Train\", color=\"brown\")\n",
    "# pyplot.plot(multiHeadCNNSCORES.history['val_loss'],label=\"MULTI HEAD CNN Test\", color=\"purple\")\n",
    "\n",
    "\n",
    "# pyplot.plot(multiHeadCNNSCORESDEEP.history['loss'],label=\"MULTI HEAD CNN 1 Train\", color=\"red\")\n",
    "# pyplot.plot(multiHeadCNNSCORESDEEP.history['val_loss'],label=\"MULTI HEAD CNN 1 Test\", color=\"green\")\n",
    "\n",
    "# pyplot.plot(multiHeadCNNSCORESDEEPER.history['loss'],label=\"MULTI HEAD CNN DEEP 1 Train\", color=\"brown\")\n",
    "# pyplot.plot(multiHeadCNNSCORESDEEPER.history['val_loss'],label=\"MULTI HEAD CNN DEEP 1 Test\", color=\"purple\")\n",
    "\n",
    "pyplot.xlabel('epoch')\n",
    "pyplot.ylabel('loss(MAE)')\n",
    "\n",
    "pyplot.legend()\n",
    "pyplot.show()"
   ]
  },
  {
   "cell_type": "markdown",
   "metadata": {},
   "source": [
    "## SCORES"
   ]
  },
  {
   "cell_type": "code",
   "execution_count": null,
   "metadata": {
    "scrolled": true
   },
   "outputs": [],
   "source": [
    "# LSTM SCORES\n",
    "print(\"Lstm means:\")\n",
    "print(np.mean(lstmScores.history['loss']))\n",
    "print(np.mean(lstmScores.history['val_loss']))\n",
    "print(np.mean(lstmScores.history['root_mean_squared_error']))\n",
    "print(np.mean(lstmScores.history['val_root_mean_squared_error']))\n",
    "print(\"Lstm stds:\")\n",
    "print(np.std(lstmScores.history['loss']))\n",
    "print(np.std(lstmScores.history['val_loss']))\n",
    "print(np.std(lstmScores.history['root_mean_squared_error']))\n",
    "print(np.std(lstmScores.history['val_root_mean_squared_error']))\n",
    "print(\"\")\n",
    "# CNN SCORES\n",
    "print(\"CNN means:\")\n",
    "print(np.mean(cnnScores.history['loss']))\n",
    "print(np.mean(cnnScores.history['val_loss']))\n",
    "print(np.mean(cnnScores.history['root_mean_squared_error']))\n",
    "print(np.mean(cnnScores.history['val_root_mean_squared_error']))\n",
    "print(\"CNN stds:\")\n",
    "print(np.std(cnnScores.history['loss']))\n",
    "print(np.std(cnnScores.history['val_loss']))\n",
    "print(np.std(cnnScores.history['root_mean_squared_error']))\n",
    "print(np.std(cnnScores.history['val_root_mean_squared_error']))\n",
    "print(\"\")\n",
    "# CNN2 SCORES\n",
    "print(\"CNN2 means:\")\n",
    "print(np.mean(cnnScores3.history['loss']))\n",
    "print(np.mean(cnnScores3.history['val_loss']))\n",
    "print(np.mean(cnnScores3.history['root_mean_squared_error']))\n",
    "print(np.mean(cnnScores3.history['val_root_mean_squared_error']))\n",
    "print(\"CNN2 stds:\")\n",
    "print(np.std(cnnScores3.history['loss']))\n",
    "print(np.std(cnnScores3.history['val_loss']))\n",
    "print(np.std(cnnScores3.history['root_mean_squared_error']))\n",
    "print(np.std(cnnScores3.history['val_root_mean_squared_error']))\n",
    "print(\"\")\n",
    "# MUTLI HEAD CNN SCORES\n",
    "print(\"MUTLI HEAD CNN means:\")\n",
    "print(np.mean(multiHeadCNNSCORES.history['loss']))\n",
    "print(np.mean(multiHeadCNNSCORES.history['val_loss']))\n",
    "# print(np.mean(multiHeadCNNSCORES.history['root_mean_squared_error']))\n",
    "# print(np.mean(multiHeadCNNSCORES.history['val_root_mean_squared_error']))\n",
    "print(\"MUTLI HEAD CNN stds:\")\n",
    "print(np.std(multiHeadCNNSCORES.history['loss']))\n",
    "print(np.std(multiHeadCNNSCORES.history['val_loss']))\n",
    "# print(np.std(multiHeadCNNSCORES.history['root_mean_squared_error']))\n",
    "# print(np.std(multiHeadCNNSCORES.history['val_root_mean_squared_error']))\n",
    "print(\"\")\n",
    "#GRU SCORES\n",
    "print(\"GRU means:\")\n",
    "print(np.mean(gruScores.history['loss']))\n",
    "print(np.mean(gruScores.history['val_loss']))\n",
    "print(np.mean(gruScores.history['root_mean_squared_error']))\n",
    "print(np.mean(gruScores.history['val_root_mean_squared_error']))\n",
    "print(\"GRU stds:\")\n",
    "print(np.std(gruScores.history['loss']))\n",
    "print(np.std(gruScores.history['val_loss']))\n",
    "print(np.std(gruScores.history['root_mean_squared_error']))\n",
    "print(np.std(gruScores.history['val_root_mean_squared_error']))\n"
   ]
  },
  {
   "cell_type": "code",
   "execution_count": null,
   "metadata": {},
   "outputs": [],
   "source": [
    "trainPredict = model.predict(x_train)"
   ]
  },
  {
   "cell_type": "code",
   "execution_count": null,
   "metadata": {},
   "outputs": [],
   "source": [
    "predictedLabels = model.predict(x_test)"
   ]
  },
  {
   "cell_type": "code",
   "execution_count": null,
   "metadata": {},
   "outputs": [],
   "source": [
    "predictedLabels = predictedLabels.flatten()"
   ]
  }
 ],
 "metadata": {
  "kernelspec": {
   "display_name": "Python 3",
   "language": "python",
   "name": "python3"
  },
  "language_info": {
   "codemirror_mode": {
    "name": "ipython",
    "version": 3
   },
   "file_extension": ".py",
   "mimetype": "text/x-python",
   "name": "python",
   "nbconvert_exporter": "python",
   "pygments_lexer": "ipython3",
   "version": "3.7.7"
  }
 },
 "nbformat": 4,
 "nbformat_minor": 4
}
